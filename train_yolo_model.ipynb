{
  "cells": [
    {
      "cell_type": "markdown",
      "metadata": {
        "id": "sjegNkGyP4y-"
      },
      "source": [
        "# **See hardware**"
      ]
    },
    {
      "cell_type": "code",
      "execution_count": null,
      "metadata": {
        "colab": {
          "base_uri": "https://localhost:8080/"
        },
        "id": "wG8vzJb5PtGx",
        "outputId": "2c512358-1659-4f91-fe6b-239e63c5700b"
      },
      "outputs": [],
      "source": [
        "!nvidia-smi"
      ]
    },
    {
      "cell_type": "markdown",
      "metadata": {
        "id": "5iQg5_FWP7yc"
      },
      "source": [
        "# **Install Ultralytics**"
      ]
    },
    {
      "cell_type": "code",
      "execution_count": null,
      "metadata": {
        "colab": {
          "base_uri": "https://localhost:8080/"
        },
        "id": "zTgFx_bUP98D",
        "outputId": "d17d3539-0496-4436-e307-31a6f4850b46"
      },
      "outputs": [],
      "source": [
        "!pip install ultralytics"
      ]
    },
    {
      "cell_type": "markdown",
      "metadata": {
        "id": "4YbXBbWFP_Lc"
      },
      "source": [
        "# **Import Yolo Model**"
      ]
    },
    {
      "cell_type": "code",
      "execution_count": null,
      "metadata": {
        "colab": {
          "base_uri": "https://localhost:8080/"
        },
        "id": "hUNX-Vr9QBPO",
        "outputId": "f3f3b9f9-6d84-43ed-88cf-830b82badde8"
      },
      "outputs": [],
      "source": [
        "from ultralytics import YOLO\n",
        "import os\n",
        "from IPython.display import display, Image\n",
        "from IPython import display\n",
        "display.clear_output()\n",
        "!yolo checks"
      ]
    },
    {
      "cell_type": "markdown",
      "metadata": {
        "id": "_vi0daRMQCbW"
      },
      "source": [
        "# **Import dataset from Roboflow**"
      ]
    },
    {
      "cell_type": "code",
      "execution_count": null,
      "metadata": {
        "colab": {
          "base_uri": "https://localhost:8080/",
          "height": 1000
        },
        "id": "XJVCVufBQFJc",
        "outputId": "71e7e6f8-243f-49ff-aefe-c4fd442ff431"
      },
      "outputs": [],
      "source": [
        "!pip install roboflow\n",
        "\n",
        "from roboflow import Roboflow\n",
        "rf = Roboflow(api_key=\"ktjoACpet9C1Q4IqiLwW\")\n",
        "project = rf.workspace(\"dvktest\").project(\"lp-test-jfn0k\")\n",
        "version = project.version(1)\n",
        "dataset = version.download(\"yolov8\")\n"
      ]
    },
    {
      "cell_type": "markdown",
      "metadata": {
        "id": "XZamejubQHcU"
      },
      "source": [
        "# **Train model on dataset**"
      ]
    },
    {
      "cell_type": "code",
      "execution_count": null,
      "metadata": {
        "colab": {
          "base_uri": "https://localhost:8080/"
        },
        "id": "Or-CRyQdQKCA",
        "outputId": "e769cb2b-be1f-443f-be7f-b926ffa5706b"
      },
      "outputs": [],
      "source": [
        "!yolo task=detect mode=train model=yolov8m.pt data={dataset.location}/data.yaml epochs=20 imgsz=640"
      ]
    },
    {
      "cell_type": "markdown",
      "metadata": {
        "id": "tysId2mKWFlk"
      },
      "source": [
        "# **Confusion Matrix**"
      ]
    },
    {
      "cell_type": "code",
      "execution_count": null,
      "metadata": {
        "colab": {
          "base_uri": "https://localhost:8080/",
          "height": 467
        },
        "id": "sSCS6qqzV1WM",
        "outputId": "d44a92ce-2f39-4b14-9723-c19a10aa37f5"
      },
      "outputs": [],
      "source": [
        "Image(filename=f'/content/runs/detect/train/confusion_matrix.png', width=600)"
      ]
    },
    {
      "cell_type": "markdown",
      "metadata": {
        "id": "BTX-G6a6WHmI"
      },
      "source": [
        "# **Results**"
      ]
    },
    {
      "cell_type": "code",
      "execution_count": null,
      "metadata": {
        "colab": {
          "base_uri": "https://localhost:8080/",
          "height": 317
        },
        "id": "hcS0Yja4V-Jf",
        "outputId": "1f570942-4b76-4a54-b3e9-0b689829bbc6"
      },
      "outputs": [],
      "source": [
        "Image(filename=f'/content/runs/detect/train/results.png', width=600)"
      ]
    },
    {
      "cell_type": "markdown",
      "metadata": {
        "id": "3A_n8hweWuzf"
      },
      "source": [
        "# **Train on best model**"
      ]
    },
    {
      "cell_type": "code",
      "execution_count": null,
      "metadata": {
        "colab": {
          "base_uri": "https://localhost:8080/"
        },
        "id": "u5gek3RvWXGg",
        "outputId": "ed678ab4-af97-4ffc-cf14-22925b123f6c"
      },
      "outputs": [],
      "source": [
        "!yolo task=detect mode=val model=/content/runs/detect/train/weights/best.pt data={dataset.location}/data.yaml"
      ]
    },
    {
      "cell_type": "markdown",
      "metadata": {
        "id": "X5IrCxCeZj_U"
      },
      "source": [
        "# **Predict on test images**"
      ]
    },
    {
      "cell_type": "code",
      "execution_count": null,
      "metadata": {
        "colab": {
          "base_uri": "https://localhost:8080/"
        },
        "id": "z4VNPsMSXfGa",
        "outputId": "7edee73d-90b4-4395-e5c7-381d8385ff48"
      },
      "outputs": [],
      "source": [
        "!yolo task=detect mode=predict model=/content/runs/detect/train/weights/best.pt conf=0.5 source={dataset.location}/test/images"
      ]
    },
    {
      "cell_type": "markdown",
      "metadata": {
        "id": "oU7GtM0gZ962"
      },
      "source": [
        "# **Show prediction images**"
      ]
    },
    {
      "cell_type": "code",
      "execution_count": null,
      "metadata": {
        "colab": {
          "base_uri": "https://localhost:8080/",
          "height": 1000
        },
        "id": "V0K3L6yiZm6c",
        "outputId": "08d9d6f9-f8d8-4993-837e-88aeff6a05a6"
      },
      "outputs": [],
      "source": [
        "import glob\n",
        "from IPython.display import Image, display\n",
        "\n",
        "for image_path in glob.glob(f'/content/runs/detect/predict/*.jpg'):\n",
        "  display(Image(filename=image_path, height=600))\n",
        "  print(\"\\n\")"
      ]
    }
  ],
  "metadata": {
    "accelerator": "GPU",
    "colab": {
      "gpuType": "T4",
      "provenance": []
    },
    "kernelspec": {
      "display_name": "Python 3",
      "name": "python3"
    },
    "language_info": {
      "name": "python"
    }
  },
  "nbformat": 4,
  "nbformat_minor": 0
}
